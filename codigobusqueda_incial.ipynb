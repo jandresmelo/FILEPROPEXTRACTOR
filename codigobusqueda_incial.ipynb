import os  # Importa el módulo 'os' para interactuar con el sistema de archivos
import psycopg2  # Importa la librería 'psycopg2' para conectarse a la base de datos PostgreSQL
from datetime import datetime  # Importa el módulo 'datetime' para trabajar con fechas y horas

# Define el tamaño de cada lote que se insertará en la base de datos
BATCH_SIZE = 500

# Define la ruta base que será recorrida para procesar carpetas y archivos
RUTA_BASE = r'X:\\'  # Notación de ruta en Windows

# Lista de extensiones de archivo que se excluirán del procesamiento (archivos temporales, irrelevantes)
EXTENSIONES_RESTRINGIDAS = ['.dcm', '.tmp', '.swp', '.bak', '.log', '.~', '.crdownload', '.part']

# Función que establece la conexión a la base de datos PostgreSQL
def conectar_base_datos():
    try:
        # Intenta establecer la conexión con las credenciales de la base de datos
        conn = psycopg2.connect(
            dbname="lito_virtual",
            user="postgres",
            password="postgres",
            host="localhost",
            port="5432"
        )
        return conn  # Devuelve la conexión si es exitosa
    except Exception as e:
        # Si ocurre un error al intentar conectarse, imprime un mensaje de error
        print(f"Error al conectar a la base de datos: {e}")
        return None  # Devuelve None si no pudo conectarse

# Función para insertar los datos en la tabla 'directorios' de la base de datos en lotes
def insertar_en_base_de_datos_batch(conn, batch):
    try:
        cur = conn.cursor()  # Crea un cursor para ejecutar consultas en la base de datos
        query = '''
        INSERT INTO public.directorios (
            uwi_upi, nombre_pozo, tipo_producto, ruta_archivo, nombre_archivo, tamano_archivo, fecha_creacion, fecha_modificacion, extension_archivo
        ) VALUES (%s, %s, %s, %s, %s, %s, %s, %s, %s)
        '''  # Consulta SQL para insertar los datos en la tabla 'directorios'
        cur.executemany(query, batch)  # Ejecuta la inserción en la tabla con los datos en el batch
        conn.commit()  # Confirma la transacción, es decir, guarda los cambios en la base de datos
        cur.close()  # Cierra el cursor para liberar recursos
        print(f"Insertadas {len(batch)} filas en la base de datos.")  # Informa cuántos registros fueron insertados
    except Exception as e:
        conn.rollback()  # Si ocurre un error, deshace la transacción para no cometer cambios parciales
        print(f"Error al insertar en la base de datos: {e}")  # Imprime el error que ocurrió

# Función para registrar un error en la tabla 'errores'
def registrar_error(conn, uwi_upi, nombre_pozo, ruta_archivo):
    try:
        cur = conn.cursor()  # Crea un cursor para ejecutar consultas en la base de datos
        query = '''
        INSERT INTO public.errores (uwi_upi, nombre_pozo, ruta_archivo, fecha_error)
        VALUES (%s, %s, %s, %s)
        '''  # Consulta SQL para insertar un error en la tabla 'errores'
        cur.execute(query, (uwi_upi, nombre_pozo, ruta_archivo, datetime.now()))  # Ejecuta la inserción del error con la fecha actual
        conn.commit()  # Confirma la transacción, guarda los cambios
        cur.close()  # Cierra el cursor
        print(f"Error registrado para {uwi_upi} en {ruta_archivo}")  # Informa que el error ha sido registrado
    except Exception as e:
        conn.rollback()  # Si ocurre un error, deshace la transacción
        print(f"Error al registrar el error en la base de datos: {e}")  # Imprime el mensaje de error

# Función para verificar si un UWI (identificador único) existe en la tabla 'pozos_epis_sgc'
def verificar_uwi(conn, uwi_upi):
    try:
        cur = conn.cursor()  # Crea un cursor para ejecutar consultas
        query = 'SELECT 1 FROM public.pozos_epis_sgc WHERE uwi = %s'  # Consulta SQL para verificar si el UWI existe
        cur.execute(query, (uwi_upi,))  # Ejecuta la consulta con el UWI dado
        result = cur.fetchone()  # Obtiene el primer resultado de la consulta
        cur.close()  # Cierra el cursor
        return result is not None  # Devuelve True si el UWI existe, False si no
    except Exception as e:
        print(f"Error al verificar UWI: {e}")  # Si ocurre un error, lo imprime
        return False  # Devuelve False si no pudo verificar

# Función para procesar las carpetas y archivos en la ruta especificada
def procesar_carpetas(carpeta_base):
    conn = conectar_base_datos()  # Conecta a la base de datos
    if not conn:
        return  # Si no se pudo conectar, termina la función

    batch = []  # Lista que almacenará los datos antes de ser insertados en lotes
    try:
        # Recorre todas las carpetas, subcarpetas y archivos dentro de la ruta 'carpeta_base'
        for carpeta_raiz, subcarpetas, archivos in os.walk(carpeta_base):
            nombre_carpeta = os.path.basename(carpeta_raiz)  # Obtiene el nombre de la carpeta actual
            if "_" in nombre_carpeta:
                # Si la carpeta sigue el formato esperado, separa el UWI y el nombre del pozo
                uwi_upi, nombre_pozo = nombre_carpeta.split("_", 1)
            else:
                print(f"Formato incorrecto en la carpeta: {nombre_carpeta}, saltando...")  # Formato incorrecto, lo salta
                continue  # Continúa con la siguiente carpeta

            # Verifica si el UWI existe en la base de datos
            if not verificar_uwi(conn, uwi_upi):
                # Si el UWI no existe, registra el error y salta esta carpeta
                registrar_error(conn, uwi_upi, nombre_pozo, carpeta_raiz)
                print(f"UWI no encontrado para: {uwi_upi}. Registrado en errores. Saltando carpeta y subcarpetas.")
                continue  # Salta esta carpeta y sus subcarpetas

            # Si el UWI es válido, procede a procesar las subcarpetas
            for subcarpeta in subcarpetas:
                tipo_producto = subcarpeta  # La subcarpeta se trata como el tipo de producto
                ruta_tipo_producto = os.path.join(carpeta_raiz, subcarpeta)  # Obtiene la ruta completa de la subcarpeta

                # Recorre todos los archivos dentro de la subcarpeta
                for root, _, files in os.walk(ruta_tipo_producto):
                    for archivo in files:  # Para cada archivo
                        ruta_archivo = os.path.join(root, archivo)  # Obtiene la ruta completa del archivo
                        try:
                            # Verifica si el archivo tiene una extensión restringida
                            if archivo.lower().endswith(".dcm"):
                                print(f"Archivo DICOM excluido: {archivo}")  # Excluye los archivos .dcm
                                continue  # Continúa con el siguiente archivo

                            # Excluye archivos con extensiones restringidas
                            if os.path.splitext(archivo)[1].lower() in EXTENSIONES_RESTRINGIDAS:
                                print(f"Archivo restringido (omitiendo): {archivo}")  # Excluye otros archivos restringidos
                                continue  # Salta este archivo

                            # Obtiene el tamaño del archivo y sus fechas de creación/modificación
                            nombre_archivo, extension_archivo = os.path.splitext(archivo)  # Obtiene el nombre y extensión
                            extension_archivo = extension_archivo.lstrip(".")  # Remueve el punto de la extensión
                            tamano_archivo = os.path.getsize(ruta_archivo)  # Obtiene el tamaño del archivo
                            fecha_creacion = datetime.fromtimestamp(os.path.getctime(ruta_archivo))  # Fecha de creación
                            fecha_modificacion = datetime.fromtimestamp(os.path.getmtime(ruta_archivo))  # Fecha de modificación
                        except Exception as e:
                            print(f"Error al procesar archivo {archivo}: {e}")  # Si ocurre un error, lo informa
                            continue  # Salta este archivo en caso de error

                        # Añade la información del archivo al lote de inserción
                        batch.append((uwi_upi, nombre_pozo, tipo_producto, ruta_archivo, nombre_archivo,
                                      tamano_archivo, fecha_creacion, fecha_modificacion, extension_archivo))

                        # Si el lote alcanza el tamaño definido (BATCH_SIZE), inserta en la base de datos
                        if len(batch) >= BATCH_SIZE:
                            insertar_en_base_de_datos_batch(conn, batch)
                            batch.clear()  # Limpia el lote después de la inserción

        # Inserta los datos restantes que no alcanzaron el tamaño del lote
        if batch:
            insertar_en_base_de_datos_batch(conn, batch)

    except KeyboardInterrupt:
        print("\nProceso interrumpido manualmente. Cerrando de manera segura...")  # Interrupción manual
    finally:
        conn.close()  # Cierra la conexión con la base de datos al finalizar

# Ejecuta el procesamiento de las carpetas en la ruta definida
if __name__ == "__main__":
    print(f"Iniciando el procesamiento de la carpeta: {RUTA_BASE}")
    procesar_carpetas(RUTA_BASE)  # Llama a la función principal para procesar las carpetas
    print("Proceso completado.")  # Informa que el proceso ha finalizado
